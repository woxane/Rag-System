{
 "cells": [
  {
   "cell_type": "markdown",
   "id": "ecf43099-9a0a-47b6-91f1-9316aee2747c",
   "metadata": {},
   "source": [
    "# Compare Llama3.1 8B Instruct quantizations VS ChatGPT 4o\n",
    "\n",
    "So for this task i asked ChatGPT 4o to give me 5 questions for RAG system (there is a context with question) and get a answer based on the instructions that we are gonna get to the Llama 3.1 quantizations.\n",
    "\n",
    "We compare them based on the cosine similarity of each answers. We use lm-studio to run the models.\n",
    "\n",
    "The template that meta has released for their Instruct models is like this:\n",
    "\n",
    "\n",
    "<|begin_of_text|><|start_header_id|>system<|end_header_id|>\n",
    "\n",
    "<|eot_id|><|start_header_id|>user<|end_header_id|>\n",
    "\n",
    "<|eot_id|><|start_header_id|>assistant<|end_header_id|>"
   ]
  },
  {
   "cell_type": "markdown",
   "id": "b15f7af2-b43e-4f93-be36-b129c00df736",
   "metadata": {},
   "source": [
    "Lets save the Q&A with their context of ChatGPT 4o in a dictionary "
   ]
  },
  {
   "cell_type": "code",
   "execution_count": 1,
   "id": "09f8b739-fd24-4549-9bb5-66d3338b092c",
   "metadata": {},
   "outputs": [],
   "source": [
    "gpt_data = {\n",
    "    0: {\n",
    "        \"context\": \" برج ایفل، یکی از معروف‌ترین نشانه‌های دنیا، در شهر پاریس فرانسه قرار دارد. این برج بین سال‌های ۱۸۸۷ تا ۱۸۸۹ به عنوان ورودی نمایشگاه جهانی ۱۸۸۹ ساخته شد.\",\n",
    "        \"question\": \" برج ایفل در کدام شهر واقع شده است؟\",\n",
    "        \"answer\": \" پاریس.\",\n",
    "    },\n",
    "    1: {\n",
    "        \"context\": \"آلبرت اینشتین، فیزیکدان نظری، نظریه نسبیت را توسعه داد که یکی از دو ستون فیزیک مدرن است (ستون دیگر مکانیک کوانتومی است). کار او همچنین تأثیر زیادی بر فلسفه علم داشت.\",\n",
    "        \"question\": \" چه کسی نظریه نسبیت را توسعه داد؟\",\n",
    "        \"answer\": \"آلبرت اینشتین.\",\n",
    "        \n",
    "    },\n",
    "    2: {\n",
    "        \"context\": \" جنگل‌های آمازون، که اغلب به عنوان `ریه‌های زمین` شناخته می‌شوند، بزرگترین جنگل‌های استوایی در جهان هستند و بیشتر بخش‌های شمالی آمریکای جنوبی را پوشش می‌دهند. این جنگل‌ها محل زندگی گونه‌های متنوعی از گیاهان و جانوران هستند.\",\n",
    "        \"question\": \"جنگل‌های آمازون به چه نامی شناخته می‌شوند؟\",\n",
    "        \"answer\": \"ریه‌های زمین.\",\n",
    "    },\n",
    "    3: {\n",
    "        \"context\": \"دیوار بزرگ چین که طی چندین سلسله ساخته شده است، ابتدا برای محافظت از ایالت‌ها و امپراتوری‌های چین در برابر تهاجمات و حملات گروه‌های کوچ‌نشین از شمال ساخته شد.\",\n",
    "        \"question\": \" چرا دیوار بزرگ چین در ابتدا ساخته شد؟\",\n",
    "        \"answer\": \"برای محافظت از ایالت‌ها و امپراتوری‌های چین در برابر تهاجمات و حملات گروه‌های کوچ‌نشین از شمال.\",\n",
    "    },\n",
    "    4: {\n",
    "        \"context\": \" قلب انسان چهار حفره دارد: دو دهلیز (حفره‌های بالایی) و دو بطن (حفره‌های پایینی). این قلب خون را در سراسر بدن پمپاژ می‌کند و به بافت‌ها اکسیژن و مواد مغذی می‌رساند و دی‌اکسید کربن و دیگر ضایعات را از بدن خارج می‌کند.\",\n",
    "        \"question\": \"قلب انسان چند حفره دارد؟\",\n",
    "        \"answer\": \"چهار حفره.\",\n",
    "    },\n",
    "}"
   ]
  },
  {
   "cell_type": "markdown",
   "id": "c71ef55f-0eba-4123-8188-bdf2bd899834",
   "metadata": {},
   "source": [
    "In this notebook we use langchain python library to create prompt and a chain to have simple implementation.\n",
    "\n",
    "We use default configuration for connecting to lm-studio.\n",
    "\n",
    "the response function gives us the response of a specifc llm model and elapsed time that llm spent for a question."
   ]
  },
  {
   "cell_type": "code",
   "execution_count": 2,
   "id": "c493a099-81b7-4ef8-aa76-5a3723777f7d",
   "metadata": {},
   "outputs": [],
   "source": [
    "from langchain_openai import OpenAI\n",
    "from langchain_core.prompts import PromptTemplate\n",
    "from time import time\n",
    "\n",
    "prompt_template = \"\"\"<|begin_of_text|><|start_header_id|>system<|end_header_id|>\n",
    "You are an intelligent assistant. You always provide well-reasoned answersthat are both correct and helpful. The above history is a conversation between you and a human(if there isn't anything that means a new start). you just need to answer as a assistant with the above instructions.\n",
    "Instructions:\n",
    "- Provide only the answer; avoid unnecessary talk or explanations.\n",
    "- Provide an accurate and thoughtful answer based on the context if the question is related.\n",
    "- If the question is unrelated or general (like greetings), respond appropriately but without referencing the context.\n",
    "- If you don't know the answer, simply say I don't know.\n",
    "Contexts:\n",
    "{contexts}\n",
    "<|eot_id|><|start_header_id|>user<|end_header_id|>\n",
    "{query}\n",
    "<|eot_id|><|start_header_id|>assistant<|end_header_id|>\n",
    "\"\"\"\n",
    "\n",
    "rag_prompt = PromptTemplate.from_template(prompt_template)\n",
    "\n",
    "def response(model_name, datas):\n",
    "    elapsed_times = []\n",
    "    responses = []\n",
    "    llm = OpenAI(base_url=\"http://localhost:1234/v1\", api_key=\"lm-studio\", model=model_name)\n",
    "    rag_chain = rag_prompt | llm\n",
    "\n",
    "    for data in datas.values():\n",
    "        a = time()\n",
    "        response = rag_chain.invoke({\"contexts\": data[\"context\"], \"query\": data[\"question\"]})\n",
    "        b = time()\n",
    "\n",
    "        elapsed_times.append(b - a)\n",
    "        responses.append(response)\n",
    "\n",
    "    return (elapsed_times, responses)"
   ]
  },
  {
   "cell_type": "code",
   "execution_count": 13,
   "id": "4b8f87ab-bfd8-406e-b3ef-cb8543277a98",
   "metadata": {},
   "outputs": [
    {
     "name": "stdin",
     "output_type": "stream",
     "text": [
      "Enter quantization model name:  Q3_K_L\n",
      "Enter quantization model name:  IQ4_XS\n",
      "Enter quantization model name:  Q4_K_M\n",
      "Enter quantization model name:  \n"
     ]
    }
   ],
   "source": [
    "llm_quantizations_datas = {}\n",
    "\n",
    "while model_name := input(\"Enter quantization model name: \"):\n",
    "    if not model_name:\n",
    "        break\n",
    "        \n",
    "    elapsed_time, responses = response(model_name, gpt_data)\n",
    "    llm_quantizations_datas[model_name] = (elapsed_time, responses)    "
   ]
  },
  {
   "cell_type": "code",
   "execution_count": 38,
   "id": "82b4f373-3b05-4885-9c54-8a7b3b8efc1f",
   "metadata": {},
   "outputs": [
    {
     "data": {
      "text/html": [
       "<div>\n",
       "<style scoped>\n",
       "    .dataframe tbody tr th:only-of-type {\n",
       "        vertical-align: middle;\n",
       "    }\n",
       "\n",
       "    .dataframe tbody tr th {\n",
       "        vertical-align: top;\n",
       "    }\n",
       "\n",
       "    .dataframe thead th {\n",
       "        text-align: right;\n",
       "    }\n",
       "</style>\n",
       "<table border=\"1\" class=\"dataframe\">\n",
       "  <thead>\n",
       "    <tr style=\"text-align: right;\">\n",
       "      <th></th>\n",
       "      <th>Q3_K_L</th>\n",
       "      <th>IQ4_XS</th>\n",
       "      <th>Q4_K_M</th>\n",
       "    </tr>\n",
       "  </thead>\n",
       "  <tbody>\n",
       "    <tr>\n",
       "      <th>0</th>\n",
       "      <td>پاریس</td>\n",
       "      <td>پاریس</td>\n",
       "      <td>پاریس فرانسه</td>\n",
       "    </tr>\n",
       "    <tr>\n",
       "      <th>1</th>\n",
       "      <td>آلبرت اینشتین</td>\n",
       "      <td>آلبرت اینشتین</td>\n",
       "      <td>آلبرت اینشتین</td>\n",
       "    </tr>\n",
       "    <tr>\n",
       "      <th>2</th>\n",
       "      <td>ریه‌های زمین</td>\n",
       "      <td>ریه‌های زمین</td>\n",
       "      <td>ریه‌های زمین</td>\n",
       "    </tr>\n",
       "    <tr>\n",
       "      <th>3</th>\n",
       "      <td>برای محافظت از ایالت‌ها و امپراتوری‌های چین در...</td>\n",
       "      <td>برای محافظت از ایالت‌ها و امپراتوری‌های چین در...</td>\n",
       "      <td>برای محافظت از ایالت ها و امپراتوری های چین در...</td>\n",
       "    </tr>\n",
       "    <tr>\n",
       "      <th>4</th>\n",
       "      <td>چهار حفره دارد. دو دهلیز و دو بطن.</td>\n",
       "      <td>دویست و شش حفره ندارد. قلب انسان چهار حفره دار...</td>\n",
       "      <td>چهار حفره دارد. دو دهلیز (حفره‌های بالایی) و د...</td>\n",
       "    </tr>\n",
       "  </tbody>\n",
       "</table>\n",
       "</div>"
      ],
      "text/plain": [
       "                                              Q3_K_L  \\\n",
       "0                                              پاریس   \n",
       "1                                      آلبرت اینشتین   \n",
       "2                                       ریه‌های زمین   \n",
       "3  برای محافظت از ایالت‌ها و امپراتوری‌های چین در...   \n",
       "4                 چهار حفره دارد. دو دهلیز و دو بطن.   \n",
       "\n",
       "                                              IQ4_XS  \\\n",
       "0                                              پاریس   \n",
       "1                                      آلبرت اینشتین   \n",
       "2                                       ریه‌های زمین   \n",
       "3  برای محافظت از ایالت‌ها و امپراتوری‌های چین در...   \n",
       "4  دویست و شش حفره ندارد. قلب انسان چهار حفره دار...   \n",
       "\n",
       "                                              Q4_K_M  \n",
       "0                                       پاریس فرانسه  \n",
       "1                                      آلبرت اینشتین  \n",
       "2                                       ریه‌های زمین  \n",
       "3  برای محافظت از ایالت ها و امپراتوری های چین در...  \n",
       "4  چهار حفره دارد. دو دهلیز (حفره‌های بالایی) و د...  "
      ]
     },
     "execution_count": 38,
     "metadata": {},
     "output_type": "execute_result"
    }
   ],
   "source": [
    "import pandas as pd\n",
    "\n",
    "times_df = pd.DataFrame({key: value[0] for key, value in llm_quantizations_datas.items()})\n",
    "responses_df = pd.DataFrame({key: value[1] for key, value in llm_quantizations_datas.items()})\n",
    "responses_df"
   ]
  },
  {
   "cell_type": "code",
   "execution_count": 37,
   "id": "6e9acd02-2001-4f96-9fd4-0b249ae33aff",
   "metadata": {},
   "outputs": [
    {
     "data": {
      "text/html": [
       "<div>\n",
       "<style scoped>\n",
       "    .dataframe tbody tr th:only-of-type {\n",
       "        vertical-align: middle;\n",
       "    }\n",
       "\n",
       "    .dataframe tbody tr th {\n",
       "        vertical-align: top;\n",
       "    }\n",
       "\n",
       "    .dataframe thead th {\n",
       "        text-align: right;\n",
       "    }\n",
       "</style>\n",
       "<table border=\"1\" class=\"dataframe\">\n",
       "  <thead>\n",
       "    <tr style=\"text-align: right;\">\n",
       "      <th></th>\n",
       "      <th>answer</th>\n",
       "    </tr>\n",
       "  </thead>\n",
       "  <tbody>\n",
       "    <tr>\n",
       "      <th>0</th>\n",
       "      <td>پاریس.</td>\n",
       "    </tr>\n",
       "    <tr>\n",
       "      <th>1</th>\n",
       "      <td>آلبرت اینشتین.</td>\n",
       "    </tr>\n",
       "    <tr>\n",
       "      <th>2</th>\n",
       "      <td>ریه‌های زمین.</td>\n",
       "    </tr>\n",
       "    <tr>\n",
       "      <th>3</th>\n",
       "      <td>برای محافظت از ایالت‌ها و امپراتوری‌های چین در...</td>\n",
       "    </tr>\n",
       "    <tr>\n",
       "      <th>4</th>\n",
       "      <td>چهار حفره.</td>\n",
       "    </tr>\n",
       "  </tbody>\n",
       "</table>\n",
       "</div>"
      ],
      "text/plain": [
       "                                              answer\n",
       "0                                             پاریس.\n",
       "1                                     آلبرت اینشتین.\n",
       "2                                      ریه‌های زمین.\n",
       "3  برای محافظت از ایالت‌ها و امپراتوری‌های چین در...\n",
       "4                                         چهار حفره."
      ]
     },
     "execution_count": 37,
     "metadata": {},
     "output_type": "execute_result"
    }
   ],
   "source": [
    "gpt_answers = pd.DataFrame(gpt_data).T.drop(['context', \"question\"], axis =1)\n",
    "gpt_answers"
   ]
  },
  {
   "cell_type": "code",
   "execution_count": 48,
   "id": "2f37d1fc-644d-4243-aa20-c46aed0af973",
   "metadata": {},
   "outputs": [
    {
     "data": {
      "text/html": [
       "<div>\n",
       "<style scoped>\n",
       "    .dataframe tbody tr th:only-of-type {\n",
       "        vertical-align: middle;\n",
       "    }\n",
       "\n",
       "    .dataframe tbody tr th {\n",
       "        vertical-align: top;\n",
       "    }\n",
       "\n",
       "    .dataframe thead th {\n",
       "        text-align: right;\n",
       "    }\n",
       "</style>\n",
       "<table border=\"1\" class=\"dataframe\">\n",
       "  <thead>\n",
       "    <tr style=\"text-align: right;\">\n",
       "      <th></th>\n",
       "      <th>Q3_K_L</th>\n",
       "      <th>IQ4_XS</th>\n",
       "      <th>Q4_K_M</th>\n",
       "      <th>answer</th>\n",
       "    </tr>\n",
       "  </thead>\n",
       "  <tbody>\n",
       "    <tr>\n",
       "      <th>0</th>\n",
       "      <td>پاریس</td>\n",
       "      <td>پاریس</td>\n",
       "      <td>پاریس فرانسه</td>\n",
       "      <td>پاریس.</td>\n",
       "    </tr>\n",
       "    <tr>\n",
       "      <th>1</th>\n",
       "      <td>آلبرت اینشتین</td>\n",
       "      <td>آلبرت اینشتین</td>\n",
       "      <td>آلبرت اینشتین</td>\n",
       "      <td>آلبرت اینشتین.</td>\n",
       "    </tr>\n",
       "    <tr>\n",
       "      <th>2</th>\n",
       "      <td>ریه‌های زمین</td>\n",
       "      <td>ریه‌های زمین</td>\n",
       "      <td>ریه‌های زمین</td>\n",
       "      <td>ریه‌های زمین.</td>\n",
       "    </tr>\n",
       "    <tr>\n",
       "      <th>3</th>\n",
       "      <td>برای محافظت از ایالت‌ها و امپراتوری‌های چین در...</td>\n",
       "      <td>برای محافظت از ایالت‌ها و امپراتوری‌های چین در...</td>\n",
       "      <td>برای محافظت از ایالت ها و امپراتوری های چین در...</td>\n",
       "      <td>برای محافظت از ایالت‌ها و امپراتوری‌های چین در...</td>\n",
       "    </tr>\n",
       "    <tr>\n",
       "      <th>4</th>\n",
       "      <td>چهار حفره دارد. دو دهلیز و دو بطن.</td>\n",
       "      <td>دویست و شش حفره ندارد. قلب انسان چهار حفره دار...</td>\n",
       "      <td>چهار حفره دارد. دو دهلیز (حفره‌های بالایی) و د...</td>\n",
       "      <td>چهار حفره.</td>\n",
       "    </tr>\n",
       "  </tbody>\n",
       "</table>\n",
       "</div>"
      ],
      "text/plain": [
       "                                              Q3_K_L  \\\n",
       "0                                              پاریس   \n",
       "1                                      آلبرت اینشتین   \n",
       "2                                       ریه‌های زمین   \n",
       "3  برای محافظت از ایالت‌ها و امپراتوری‌های چین در...   \n",
       "4                 چهار حفره دارد. دو دهلیز و دو بطن.   \n",
       "\n",
       "                                              IQ4_XS  \\\n",
       "0                                              پاریس   \n",
       "1                                      آلبرت اینشتین   \n",
       "2                                       ریه‌های زمین   \n",
       "3  برای محافظت از ایالت‌ها و امپراتوری‌های چین در...   \n",
       "4  دویست و شش حفره ندارد. قلب انسان چهار حفره دار...   \n",
       "\n",
       "                                              Q4_K_M  \\\n",
       "0                                       پاریس فرانسه   \n",
       "1                                      آلبرت اینشتین   \n",
       "2                                       ریه‌های زمین   \n",
       "3  برای محافظت از ایالت ها و امپراتوری های چین در...   \n",
       "4  چهار حفره دارد. دو دهلیز (حفره‌های بالایی) و د...   \n",
       "\n",
       "                                              answer  \n",
       "0                                             پاریس.  \n",
       "1                                     آلبرت اینشتین.  \n",
       "2                                      ریه‌های زمین.  \n",
       "3  برای محافظت از ایالت‌ها و امپراتوری‌های چین در...  \n",
       "4                                         چهار حفره.  "
      ]
     },
     "execution_count": 48,
     "metadata": {},
     "output_type": "execute_result"
    }
   ],
   "source": [
    "answers_comparison = pd.concat([responses_df, gpt_answers], axis=1)\n",
    "answers_comparison"
   ]
  },
  {
   "cell_type": "code",
   "execution_count": 42,
   "id": "e0f0def4-8556-41e0-b72c-cd3bd3432158",
   "metadata": {},
   "outputs": [
    {
     "data": {
      "text/html": [
       "<div>\n",
       "<style scoped>\n",
       "    .dataframe tbody tr th:only-of-type {\n",
       "        vertical-align: middle;\n",
       "    }\n",
       "\n",
       "    .dataframe tbody tr th {\n",
       "        vertical-align: top;\n",
       "    }\n",
       "\n",
       "    .dataframe thead th {\n",
       "        text-align: right;\n",
       "    }\n",
       "</style>\n",
       "<table border=\"1\" class=\"dataframe\">\n",
       "  <thead>\n",
       "    <tr style=\"text-align: right;\">\n",
       "      <th></th>\n",
       "      <th>Q3_K_L</th>\n",
       "      <th>IQ4_XS</th>\n",
       "      <th>Q4_K_M</th>\n",
       "    </tr>\n",
       "  </thead>\n",
       "  <tbody>\n",
       "    <tr>\n",
       "      <th>0</th>\n",
       "      <td>5.405515</td>\n",
       "      <td>5.312690</td>\n",
       "      <td>15.736962</td>\n",
       "    </tr>\n",
       "    <tr>\n",
       "      <th>1</th>\n",
       "      <td>3.927681</td>\n",
       "      <td>7.271171</td>\n",
       "      <td>13.579491</td>\n",
       "    </tr>\n",
       "    <tr>\n",
       "      <th>2</th>\n",
       "      <td>2.602891</td>\n",
       "      <td>5.135591</td>\n",
       "      <td>6.920030</td>\n",
       "    </tr>\n",
       "    <tr>\n",
       "      <th>3</th>\n",
       "      <td>6.564219</td>\n",
       "      <td>8.158459</td>\n",
       "      <td>32.050345</td>\n",
       "    </tr>\n",
       "    <tr>\n",
       "      <th>4</th>\n",
       "      <td>6.387755</td>\n",
       "      <td>10.318265</td>\n",
       "      <td>34.252173</td>\n",
       "    </tr>\n",
       "  </tbody>\n",
       "</table>\n",
       "</div>"
      ],
      "text/plain": [
       "     Q3_K_L     IQ4_XS     Q4_K_M\n",
       "0  5.405515   5.312690  15.736962\n",
       "1  3.927681   7.271171  13.579491\n",
       "2  2.602891   5.135591   6.920030\n",
       "3  6.564219   8.158459  32.050345\n",
       "4  6.387755  10.318265  34.252173"
      ]
     },
     "execution_count": 42,
     "metadata": {},
     "output_type": "execute_result"
    }
   ],
   "source": [
    "times_df"
   ]
  },
  {
   "cell_type": "code",
   "execution_count": 46,
   "id": "d116f649-6d96-4bd0-856a-26a85cc9d35e",
   "metadata": {},
   "outputs": [
    {
     "data": {
      "text/plain": [
       "<Axes: >"
      ]
     },
     "execution_count": 46,
     "metadata": {},
     "output_type": "execute_result"
    },
    {
     "data": {
      "image/png": "[encoded data removed]",
      "text/plain": [
       "<Figure size 640x480 with 1 Axes>"
      ]
     },
     "metadata": {},
     "output_type": "display_data"
    }
   ],
   "source": [
    "times_df.plot()"
   ]
  },
  {
   "cell_type": "markdown",
   "id": "b504895d-08f8-4a37-b448-03c1c13c9429",
   "metadata": {},
   "source": [
    "As we see from the above plots and datas, all of the models have done a good job in responses except IQ4_XS\tthat respond weird.\n",
    "\n",
    "If we ignore this IQ4_XS is the best option. But let's go one step further and embedd the answers to check how close they are to each other.\n",
    "\n",
    "we use nomic-embed-text v1.5 and in the previous notebook we find out how good Q5_K_M really is."
   ]
  },
  {
   "cell_type": "code",
   "execution_count": 53,
   "id": "442a5d36-e763-4c2d-a20a-405f103539c7",
   "metadata": {},
   "outputs": [],
   "source": [
    "from openai import OpenAI\n",
    "client = OpenAI(base_url=\"http://localhost:1234/v1\", api_key=\"lm-studio\")\n",
    "\n",
    "def get_embedding(text, model=\"nomic-ai/nomic-embed-text-v1.5-GGUF\"):\n",
    "   text = text.replace(\"\\n\", \" \")\n",
    "   return client.embeddings.create(input = [text], model=model).data[0].embedding"
   ]
  },
  {
   "cell_type": "code",
   "execution_count": 72,
   "id": "121de6d3-cf16-4387-8d4a-60750734dc67",
   "metadata": {},
   "outputs": [],
   "source": [
    "import numpy as np\n",
    "\n",
    "embedded_answers = {}\n",
    "\n",
    "for key, value in llm_quantizations_datas.items():\n",
    "    embedds = []\n",
    "    for answer in value[1]:\n",
    "        embedding = np.array([get_embedding(answer)])\n",
    "        embedds.append(embedding)\n",
    "\n",
    "    embedded_answers[key] = embedds"
   ]
  },
  {
   "cell_type": "code",
   "execution_count": 73,
   "id": "1b1eb5ff-36b7-4e7d-b9f2-082d0c4de764",
   "metadata": {},
   "outputs": [],
   "source": [
    "gpt_answers = {\"answer\": [value[\"answer\"] for value in gpt_data.values()]}\n",
    "\n",
    "gpt_embedded_answers = []\n",
    "for answer in gpt_answers[\"answer\"]:\n",
    "    embedding = np.array([get_embedding(answer)])\n",
    "    gpt_embedded_answers.append(embedding)"
   ]
  },
  {
   "cell_type": "markdown",
   "id": "0f964000-d5c8-4199-9da7-dfa14f365d63",
   "metadata": {},
   "source": [
    "Now we want to find out the similarity between answers and models responds using Cosine similarity."
   ]
  },
  {
   "cell_type": "code",
   "execution_count": 79,
   "id": "587e8f72-c7c0-4cd3-855e-0f4a74770787",
   "metadata": {},
   "outputs": [],
   "source": [
    "from sklearn.metrics.pairwise import cosine_similarity\n",
    "\n",
    "\n",
    "similarities = {}\n",
    "\n",
    "for model_name in embedded_answers.keys():\n",
    "    gpt_similarity_to_model = []\n",
    "    for answer_index in range(len(gpt_embedded_answers)):\n",
    "        similarity = cosine_similarity(gpt_embedded_answers[answer_index], embedded_answers[model_name][answer_index])\n",
    "\n",
    "        gpt_similarity_to_model.append(similarity[0][0])\n",
    "\n",
    "    similarities[model_name] = gpt_similarity_to_model"
   ]
  },
  {
   "cell_type": "code",
   "execution_count": 83,
   "id": "440f5476-5cc7-4770-92e9-7a6dd8d585ef",
   "metadata": {},
   "outputs": [
    {
     "data": {
      "text/html": [
       "<div>\n",
       "<style scoped>\n",
       "    .dataframe tbody tr th:only-of-type {\n",
       "        vertical-align: middle;\n",
       "    }\n",
       "\n",
       "    .dataframe tbody tr th {\n",
       "        vertical-align: top;\n",
       "    }\n",
       "\n",
       "    .dataframe thead th {\n",
       "        text-align: right;\n",
       "    }\n",
       "</style>\n",
       "<table border=\"1\" class=\"dataframe\">\n",
       "  <thead>\n",
       "    <tr style=\"text-align: right;\">\n",
       "      <th></th>\n",
       "      <th>Q3_K_L</th>\n",
       "      <th>IQ4_XS</th>\n",
       "      <th>Q4_K_M</th>\n",
       "    </tr>\n",
       "  </thead>\n",
       "  <tbody>\n",
       "    <tr>\n",
       "      <th>0</th>\n",
       "      <td>0.989481</td>\n",
       "      <td>0.989481</td>\n",
       "      <td>0.879064</td>\n",
       "    </tr>\n",
       "    <tr>\n",
       "      <th>1</th>\n",
       "      <td>0.992850</td>\n",
       "      <td>0.992850</td>\n",
       "      <td>0.992850</td>\n",
       "    </tr>\n",
       "    <tr>\n",
       "      <th>2</th>\n",
       "      <td>0.988751</td>\n",
       "      <td>0.988751</td>\n",
       "      <td>0.988751</td>\n",
       "    </tr>\n",
       "    <tr>\n",
       "      <th>3</th>\n",
       "      <td>1.000000</td>\n",
       "      <td>1.000000</td>\n",
       "      <td>0.991296</td>\n",
       "    </tr>\n",
       "    <tr>\n",
       "      <th>4</th>\n",
       "      <td>0.847353</td>\n",
       "      <td>0.806914</td>\n",
       "      <td>0.870100</td>\n",
       "    </tr>\n",
       "  </tbody>\n",
       "</table>\n",
       "</div>"
      ],
      "text/plain": [
       "     Q3_K_L    IQ4_XS    Q4_K_M\n",
       "0  0.989481  0.989481  0.879064\n",
       "1  0.992850  0.992850  0.992850\n",
       "2  0.988751  0.988751  0.988751\n",
       "3  1.000000  1.000000  0.991296\n",
       "4  0.847353  0.806914  0.870100"
      ]
     },
     "execution_count": 83,
     "metadata": {},
     "output_type": "execute_result"
    }
   ],
   "source": [
    "similarities_df = pd.DataFrame(similarities)\n",
    "similarities_df"
   ]
  },
  {
   "cell_type": "code",
   "execution_count": 95,
   "id": "46470893-4934-423b-9409-6054c9383856",
   "metadata": {},
   "outputs": [
    {
     "data": {
      "text/plain": [
       "<Axes: >"
      ]
     },
     "execution_count": 95,
     "metadata": {},
     "output_type": "execute_result"
    },
    {
     "data": {
      "image/png": "[encoded data removed]",
      "text/plain": [
       "<Figure size 640x480 with 1 Axes>"
      ]
     },
     "metadata": {},
     "output_type": "display_data"
    }
   ],
   "source": [
    "similarities_df.plot(alpha=0.7)"
   ]
  }
 ],
 "metadata": {
  "kernelspec": {
   "display_name": "Python 3 (ipykernel)",
   "language": "python",
   "name": "python3"
  },
  "language_info": {
   "codemirror_mode": {
    "name": "ipython",
    "version": 3
   },
   "file_extension": ".py",
   "mimetype": "text/x-python",
   "name": "python",
   "nbconvert_exporter": "python",
   "pygments_lexer": "ipython3",
   "version": "3.12.4"
  }
 },
 "nbformat": 4,
 "nbformat_minor": 5
}

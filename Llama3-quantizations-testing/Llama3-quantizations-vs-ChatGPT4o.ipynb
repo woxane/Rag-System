{
 "cells": [
  {
   "cell_type": "markdown",
   "id": "9ff275e4-1d56-406a-a677-cfe1a4c71782",
   "metadata": {},
   "source": [
    "# Compare Llama3 8B Instruct quantizations VS ChatGPT 4o\n",
    "\n",
    "So for this task i asked ChatGPT 4o to give me 5 questions for RAG system (there is a context with question) and get a answer based on the instructions that we are gonna get to the Llama 3 quantizations.\n",
    "\n",
    "We compare them based on the cosine similarity of each answers. We use lm-studio to run the models.\n",
    "\n",
    "The template that meta has released for their Instruct models is like this:\n",
    "\n",
    "\n",
    "<|begin_of_text|><|start_header_id|>system<|end_header_id|>\n",
    "\n",
    "<|eot_id|><|start_header_id|>user<|end_header_id|>\n",
    "\n",
    "<|eot_id|><|start_header_id|>assistant<|end_header_id|>"
   ]
  },
  {
   "cell_type": "markdown",
   "id": "6d5ea1f4-effc-41ce-a2cf-bf72939817dc",
   "metadata": {},
   "source": [
    "Lets save the Q&A with their context of ChatGPT 4o in a dictionary. (we use the same questions from previous notebooks)"
   ]
  },
  {
   "cell_type": "code",
   "execution_count": 2,
   "id": "10198453-cb10-4321-afaf-5cbac1468c94",
   "metadata": {},
   "outputs": [],
   "source": [
    "gpt_data = {\n",
    "    0: {\n",
    "        \"context\": \" برج ایفل، یکی از معروف‌ترین نشانه‌های دنیا، در شهر پاریس فرانسه قرار دارد. این برج بین سال‌های ۱۸۸۷ تا ۱۸۸۹ به عنوان ورودی نمایشگاه جهانی ۱۸۸۹ ساخته شد.\",\n",
    "        \"question\": \" برج ایفل در کدام شهر واقع شده است؟\",\n",
    "        \"answer\": \" پاریس.\",\n",
    "    },\n",
    "    1: {\n",
    "        \"context\": \"آلبرت اینشتین، فیزیکدان نظری، نظریه نسبیت را توسعه داد که یکی از دو ستون فیزیک مدرن است (ستون دیگر مکانیک کوانتومی است). کار او همچنین تأثیر زیادی بر فلسفه علم داشت.\",\n",
    "        \"question\": \" چه کسی نظریه نسبیت را توسعه داد؟\",\n",
    "        \"answer\": \"آلبرت اینشتین.\",\n",
    "        \n",
    "    },\n",
    "    2: {\n",
    "        \"context\": \" جنگل‌های آمازون، که اغلب به عنوان `ریه‌های زمین` شناخته می‌شوند، بزرگترین جنگل‌های استوایی در جهان هستند و بیشتر بخش‌های شمالی آمریکای جنوبی را پوشش می‌دهند. این جنگل‌ها محل زندگی گونه‌های متنوعی از گیاهان و جانوران هستند.\",\n",
    "        \"question\": \"جنگل‌های آمازون به چه نامی شناخته می‌شوند؟\",\n",
    "        \"answer\": \"ریه‌های زمین.\",\n",
    "    },\n",
    "    3: {\n",
    "        \"context\": \"دیوار بزرگ چین که طی چندین سلسله ساخته شده است، ابتدا برای محافظت از ایالت‌ها و امپراتوری‌های چین در برابر تهاجمات و حملات گروه‌های کوچ‌نشین از شمال ساخته شد.\",\n",
    "        \"question\": \" چرا دیوار بزرگ چین در ابتدا ساخته شد؟\",\n",
    "        \"answer\": \"برای محافظت از ایالت‌ها و امپراتوری‌های چین در برابر تهاجمات و حملات گروه‌های کوچ‌نشین از شمال.\",\n",
    "    },\n",
    "    4: {\n",
    "        \"context\": \" قلب انسان چهار حفره دارد: دو دهلیز (حفره‌های بالایی) و دو بطن (حفره‌های پایینی). این قلب خون را در سراسر بدن پمپاژ می‌کند و به بافت‌ها اکسیژن و مواد مغذی می‌رساند و دی‌اکسید کربن و دیگر ضایعات را از بدن خارج می‌کند.\",\n",
    "        \"question\": \"قلب انسان چند حفره دارد؟\",\n",
    "        \"answer\": \"چهار حفره.\",\n",
    "    },\n",
    "}"
   ]
  },
  {
   "cell_type": "markdown",
   "id": "4cdd73d4-4153-4bd6-b2a7-5812b4b10f47",
   "metadata": {},
   "source": [
    "In this notebook we use langchain python library to create prompt and a chain to have simple implementation.\n",
    "\n",
    "We use default configuration for connecting to lm-studio.\n",
    "\n",
    "the response function gives us the response of a specifc llm model and elapsed time that llm spent for a question.\n",
    "\n",
    "We test this in the same conditions as the previous notebook so that we can compare it with other models.\n",
    "\n",
    "Such as prompt template."
   ]
  },
  {
   "cell_type": "code",
   "execution_count": 3,
   "id": "ac8dc878-ea42-496d-b507-30555f5fbf50",
   "metadata": {},
   "outputs": [],
   "source": [
    "from langchain_openai import OpenAI\n",
    "from langchain_core.prompts import PromptTemplate\n",
    "from time import time\n",
    "\n",
    "prompt_template = \"\"\"<|begin_of_text|><|start_header_id|>system<|end_header_id|>\n",
    "You are an intelligent assistant. You always provide well-reasoned answersthat are both correct and helpful. The above history is a conversation between you and a human(if there isn't anything that means a new start). you just need to answer as a assistant with the above instructions.\n",
    "Instructions:\n",
    "- Provide only the answer; avoid unnecessary talk or explanations.\n",
    "- Provide an accurate and thoughtful answer based on the context if the question is related.\n",
    "- If the question is unrelated or general (like greetings), respond appropriately but without referencing the context.\n",
    "- If you don't know the answer, simply say I don't know.\n",
    "Contexts:\n",
    "{contexts}\n",
    "<|eot_id|><|start_header_id|>user<|end_header_id|>\n",
    "{query}\n",
    "<|eot_id|><|start_header_id|>assistant<|end_header_id|>\n",
    "\"\"\"\n",
    "\n",
    "rag_prompt = PromptTemplate.from_template(prompt_template)\n",
    "\n",
    "def response(model_name, datas):\n",
    "    elapsed_times = []\n",
    "    responses = []\n",
    "    llm = OpenAI(base_url=\"http://localhost:1234/v1\", api_key=\"lm-studio\", model=model_name)\n",
    "    rag_chain = rag_prompt | llm\n",
    "\n",
    "    for data in datas.values():\n",
    "        a = time()\n",
    "        response = rag_chain.invoke({\"contexts\": data[\"context\"], \"query\": data[\"question\"]})\n",
    "        b = time()\n",
    "\n",
    "        elapsed_times.append(b - a)\n",
    "        responses.append(response)\n",
    "\n",
    "    return (elapsed_times, responses)"
   ]
  },
  {
   "cell_type": "code",
   "execution_count": 4,
   "id": "9a37c7ba-9555-428a-8dd5-38366e445ada",
   "metadata": {},
   "outputs": [
    {
     "name": "stdin",
     "output_type": "stream",
     "text": [
      "Enter quantization model name:  IQ3_M\n",
      "Enter quantization model name:  Q4_K_M\n",
      "Enter quantization model name:  Q5_K_M\n",
      "Enter quantization model name:  \n"
     ]
    }
   ],
   "source": [
    "llm_quantizations_datas = {}\n",
    "\n",
    "while model_name := input(\"Enter quantization model name: \"):\n",
    "    if not model_name:\n",
    "        break\n",
    "        \n",
    "    elapsed_time, responses = response(model_name, gpt_data)\n",
    "    llm_quantizations_datas[model_name] = (elapsed_time, responses)    "
   ]
  },
  {
   "cell_type": "code",
   "execution_count": 5,
   "id": "8007236e-bd8a-4df6-ad66-56f7ac484a06",
   "metadata": {},
   "outputs": [
    {
     "data": {
      "text/html": [
       "<div>\n",
       "<style scoped>\n",
       "    .dataframe tbody tr th:only-of-type {\n",
       "        vertical-align: middle;\n",
       "    }\n",
       "\n",
       "    .dataframe tbody tr th {\n",
       "        vertical-align: top;\n",
       "    }\n",
       "\n",
       "    .dataframe thead th {\n",
       "        text-align: right;\n",
       "    }\n",
       "</style>\n",
       "<table border=\"1\" class=\"dataframe\">\n",
       "  <thead>\n",
       "    <tr style=\"text-align: right;\">\n",
       "      <th></th>\n",
       "      <th>IQ3_M</th>\n",
       "      <th>Q4_K_M</th>\n",
       "      <th>Q5_K_M</th>\n",
       "    </tr>\n",
       "  </thead>\n",
       "  <tbody>\n",
       "    <tr>\n",
       "      <th>0</th>\n",
       "      <td>پاریس، فرانسه.</td>\n",
       "      <td>پاریس، فرانسه.</td>\n",
       "      <td>پاریس فرانسه</td>\n",
       "    </tr>\n",
       "    <tr>\n",
       "      <th>1</th>\n",
       "      <td>آلبرت اینشتین، نظریه نسبیت را توسعه داد.</td>\n",
       "      <td>آلبرت اینشتین، فیزیکدان نظری، نظریه نسبیت را ت...</td>\n",
       "      <td>آلبرت اینشتین.</td>\n",
       "    </tr>\n",
       "    <tr>\n",
       "      <th>2</th>\n",
       "      <td>ریه‌های زمین</td>\n",
       "      <td>ریه‌های زمین.</td>\n",
       "      <td>ریه‌های زمین.</td>\n",
       "    </tr>\n",
       "    <tr>\n",
       "      <th>3</th>\n",
       "      <td>برای محافظت از ایالت‌ها و امپراتوری‌های چین در...</td>\n",
       "      <td>برای محافظت از ایالت‌ها و امپراتوری‌های چین در...</td>\n",
       "      <td>برای محافظت از ایالت‌ها و امپراتوری‌های چین در...</td>\n",
       "    </tr>\n",
       "    <tr>\n",
       "      <th>4</th>\n",
       "      <td>قلب انسان چهار حفره دارد: دو دهلیز (حفره‌های ...</td>\n",
       "      <td>چهار حفره دارد: دو دهلیز (حفره‌های بالایی) و د...</td>\n",
       "      <td>چهار حفره دارد: دو دهلیز (حفره‌های بالایی) و د...</td>\n",
       "    </tr>\n",
       "  </tbody>\n",
       "</table>\n",
       "</div>"
      ],
      "text/plain": [
       "                                               IQ3_M  \\\n",
       "0                                     پاریس، فرانسه.   \n",
       "1           آلبرت اینشتین، نظریه نسبیت را توسعه داد.   \n",
       "2                                       ریه‌های زمین   \n",
       "3  برای محافظت از ایالت‌ها و امپراتوری‌های چین در...   \n",
       "4   قلب انسان چهار حفره دارد: دو دهلیز (حفره‌های ...   \n",
       "\n",
       "                                              Q4_K_M  \\\n",
       "0                                     پاریس، فرانسه.   \n",
       "1  آلبرت اینشتین، فیزیکدان نظری، نظریه نسبیت را ت...   \n",
       "2                                      ریه‌های زمین.   \n",
       "3  برای محافظت از ایالت‌ها و امپراتوری‌های چین در...   \n",
       "4  چهار حفره دارد: دو دهلیز (حفره‌های بالایی) و د...   \n",
       "\n",
       "                                              Q5_K_M  \n",
       "0                                       پاریس فرانسه  \n",
       "1                                     آلبرت اینشتین.  \n",
       "2                                      ریه‌های زمین.  \n",
       "3  برای محافظت از ایالت‌ها و امپراتوری‌های چین در...  \n",
       "4  چهار حفره دارد: دو دهلیز (حفره‌های بالایی) و د...  "
      ]
     },
     "execution_count": 5,
     "metadata": {},
     "output_type": "execute_result"
    }
   ],
   "source": [
    "import pandas as pd\n",
    "\n",
    "times_df = pd.DataFrame({key: value[0] for key, value in llm_quantizations_datas.items()})\n",
    "responses_df = pd.DataFrame({key: value[1] for key, value in llm_quantizations_datas.items()})\n",
    "responses_df"
   ]
  },
  {
   "cell_type": "code",
   "execution_count": 6,
   "id": "58bab260-5d22-4d70-8ef8-d8f2d9512630",
   "metadata": {},
   "outputs": [
    {
     "data": {
      "text/html": [
       "<div>\n",
       "<style scoped>\n",
       "    .dataframe tbody tr th:only-of-type {\n",
       "        vertical-align: middle;\n",
       "    }\n",
       "\n",
       "    .dataframe tbody tr th {\n",
       "        vertical-align: top;\n",
       "    }\n",
       "\n",
       "    .dataframe thead th {\n",
       "        text-align: right;\n",
       "    }\n",
       "</style>\n",
       "<table border=\"1\" class=\"dataframe\">\n",
       "  <thead>\n",
       "    <tr style=\"text-align: right;\">\n",
       "      <th></th>\n",
       "      <th>answer</th>\n",
       "    </tr>\n",
       "  </thead>\n",
       "  <tbody>\n",
       "    <tr>\n",
       "      <th>0</th>\n",
       "      <td>پاریس.</td>\n",
       "    </tr>\n",
       "    <tr>\n",
       "      <th>1</th>\n",
       "      <td>آلبرت اینشتین.</td>\n",
       "    </tr>\n",
       "    <tr>\n",
       "      <th>2</th>\n",
       "      <td>ریه‌های زمین.</td>\n",
       "    </tr>\n",
       "    <tr>\n",
       "      <th>3</th>\n",
       "      <td>برای محافظت از ایالت‌ها و امپراتوری‌های چین در...</td>\n",
       "    </tr>\n",
       "    <tr>\n",
       "      <th>4</th>\n",
       "      <td>چهار حفره.</td>\n",
       "    </tr>\n",
       "  </tbody>\n",
       "</table>\n",
       "</div>"
      ],
      "text/plain": [
       "                                              answer\n",
       "0                                             پاریس.\n",
       "1                                     آلبرت اینشتین.\n",
       "2                                      ریه‌های زمین.\n",
       "3  برای محافظت از ایالت‌ها و امپراتوری‌های چین در...\n",
       "4                                         چهار حفره."
      ]
     },
     "execution_count": 6,
     "metadata": {},
     "output_type": "execute_result"
    }
   ],
   "source": [
    "gpt_answers = pd.DataFrame(gpt_data).T.drop(['context', \"question\"], axis =1)\n",
    "gpt_answers"
   ]
  },
  {
   "cell_type": "code",
   "execution_count": 7,
   "id": "b54bbce0-630d-4fa5-972d-11abc8d56872",
   "metadata": {},
   "outputs": [
    {
     "data": {
      "text/html": [
       "<div>\n",
       "<style scoped>\n",
       "    .dataframe tbody tr th:only-of-type {\n",
       "        vertical-align: middle;\n",
       "    }\n",
       "\n",
       "    .dataframe tbody tr th {\n",
       "        vertical-align: top;\n",
       "    }\n",
       "\n",
       "    .dataframe thead th {\n",
       "        text-align: right;\n",
       "    }\n",
       "</style>\n",
       "<table border=\"1\" class=\"dataframe\">\n",
       "  <thead>\n",
       "    <tr style=\"text-align: right;\">\n",
       "      <th></th>\n",
       "      <th>IQ3_M</th>\n",
       "      <th>Q4_K_M</th>\n",
       "      <th>Q5_K_M</th>\n",
       "      <th>answer</th>\n",
       "    </tr>\n",
       "  </thead>\n",
       "  <tbody>\n",
       "    <tr>\n",
       "      <th>0</th>\n",
       "      <td>پاریس، فرانسه.</td>\n",
       "      <td>پاریس، فرانسه.</td>\n",
       "      <td>پاریس فرانسه</td>\n",
       "      <td>پاریس.</td>\n",
       "    </tr>\n",
       "    <tr>\n",
       "      <th>1</th>\n",
       "      <td>آلبرت اینشتین، نظریه نسبیت را توسعه داد.</td>\n",
       "      <td>آلبرت اینشتین، فیزیکدان نظری، نظریه نسبیت را ت...</td>\n",
       "      <td>آلبرت اینشتین.</td>\n",
       "      <td>آلبرت اینشتین.</td>\n",
       "    </tr>\n",
       "    <tr>\n",
       "      <th>2</th>\n",
       "      <td>ریه‌های زمین</td>\n",
       "      <td>ریه‌های زمین.</td>\n",
       "      <td>ریه‌های زمین.</td>\n",
       "      <td>ریه‌های زمین.</td>\n",
       "    </tr>\n",
       "    <tr>\n",
       "      <th>3</th>\n",
       "      <td>برای محافظت از ایالت‌ها و امپراتوری‌های چین در...</td>\n",
       "      <td>برای محافظت از ایالت‌ها و امپراتوری‌های چین در...</td>\n",
       "      <td>برای محافظت از ایالت‌ها و امپراتوری‌های چین در...</td>\n",
       "      <td>برای محافظت از ایالت‌ها و امپراتوری‌های چین در...</td>\n",
       "    </tr>\n",
       "    <tr>\n",
       "      <th>4</th>\n",
       "      <td>قلب انسان چهار حفره دارد: دو دهلیز (حفره‌های ...</td>\n",
       "      <td>چهار حفره دارد: دو دهلیز (حفره‌های بالایی) و د...</td>\n",
       "      <td>چهار حفره دارد: دو دهلیز (حفره‌های بالایی) و د...</td>\n",
       "      <td>چهار حفره.</td>\n",
       "    </tr>\n",
       "  </tbody>\n",
       "</table>\n",
       "</div>"
      ],
      "text/plain": [
       "                                               IQ3_M  \\\n",
       "0                                     پاریس، فرانسه.   \n",
       "1           آلبرت اینشتین، نظریه نسبیت را توسعه داد.   \n",
       "2                                       ریه‌های زمین   \n",
       "3  برای محافظت از ایالت‌ها و امپراتوری‌های چین در...   \n",
       "4   قلب انسان چهار حفره دارد: دو دهلیز (حفره‌های ...   \n",
       "\n",
       "                                              Q4_K_M  \\\n",
       "0                                     پاریس، فرانسه.   \n",
       "1  آلبرت اینشتین، فیزیکدان نظری، نظریه نسبیت را ت...   \n",
       "2                                      ریه‌های زمین.   \n",
       "3  برای محافظت از ایالت‌ها و امپراتوری‌های چین در...   \n",
       "4  چهار حفره دارد: دو دهلیز (حفره‌های بالایی) و د...   \n",
       "\n",
       "                                              Q5_K_M  \\\n",
       "0                                       پاریس فرانسه   \n",
       "1                                     آلبرت اینشتین.   \n",
       "2                                      ریه‌های زمین.   \n",
       "3  برای محافظت از ایالت‌ها و امپراتوری‌های چین در...   \n",
       "4  چهار حفره دارد: دو دهلیز (حفره‌های بالایی) و د...   \n",
       "\n",
       "                                              answer  \n",
       "0                                             پاریس.  \n",
       "1                                     آلبرت اینشتین.  \n",
       "2                                      ریه‌های زمین.  \n",
       "3  برای محافظت از ایالت‌ها و امپراتوری‌های چین در...  \n",
       "4                                         چهار حفره.  "
      ]
     },
     "execution_count": 7,
     "metadata": {},
     "output_type": "execute_result"
    }
   ],
   "source": [
    "answers_comparison = pd.concat([responses_df, gpt_answers], axis=1)\n",
    "answers_comparison"
   ]
  },
  {
   "cell_type": "code",
   "execution_count": 8,
   "id": "ed3c75bb-e8b4-43fa-948d-4d3a8620cdab",
   "metadata": {},
   "outputs": [
    {
     "data": {
      "text/html": [
       "<div>\n",
       "<style scoped>\n",
       "    .dataframe tbody tr th:only-of-type {\n",
       "        vertical-align: middle;\n",
       "    }\n",
       "\n",
       "    .dataframe tbody tr th {\n",
       "        vertical-align: top;\n",
       "    }\n",
       "\n",
       "    .dataframe thead th {\n",
       "        text-align: right;\n",
       "    }\n",
       "</style>\n",
       "<table border=\"1\" class=\"dataframe\">\n",
       "  <thead>\n",
       "    <tr style=\"text-align: right;\">\n",
       "      <th></th>\n",
       "      <th>IQ3_M</th>\n",
       "      <th>Q4_K_M</th>\n",
       "      <th>Q5_K_M</th>\n",
       "    </tr>\n",
       "  </thead>\n",
       "  <tbody>\n",
       "    <tr>\n",
       "      <th>0</th>\n",
       "      <td>23.759107</td>\n",
       "      <td>34.925273</td>\n",
       "      <td>29.590582</td>\n",
       "    </tr>\n",
       "    <tr>\n",
       "      <th>1</th>\n",
       "      <td>45.217474</td>\n",
       "      <td>102.388365</td>\n",
       "      <td>50.243282</td>\n",
       "    </tr>\n",
       "    <tr>\n",
       "      <th>2</th>\n",
       "      <td>15.545701</td>\n",
       "      <td>31.354918</td>\n",
       "      <td>32.031450</td>\n",
       "    </tr>\n",
       "    <tr>\n",
       "      <th>3</th>\n",
       "      <td>69.028023</td>\n",
       "      <td>168.864195</td>\n",
       "      <td>172.438321</td>\n",
       "    </tr>\n",
       "    <tr>\n",
       "      <th>4</th>\n",
       "      <td>85.605103</td>\n",
       "      <td>145.584958</td>\n",
       "      <td>176.926720</td>\n",
       "    </tr>\n",
       "  </tbody>\n",
       "</table>\n",
       "</div>"
      ],
      "text/plain": [
       "       IQ3_M      Q4_K_M      Q5_K_M\n",
       "0  23.759107   34.925273   29.590582\n",
       "1  45.217474  102.388365   50.243282\n",
       "2  15.545701   31.354918   32.031450\n",
       "3  69.028023  168.864195  172.438321\n",
       "4  85.605103  145.584958  176.926720"
      ]
     },
     "execution_count": 8,
     "metadata": {},
     "output_type": "execute_result"
    }
   ],
   "source": [
    "times_df"
   ]
  },
  {
   "cell_type": "markdown",
   "id": "5479b04b-043f-4ed2-afb0-11f7b9c21094",
   "metadata": {},
   "source": [
    "As you can see, the time difference between these Llama3 models and Llama3.1 is huge."
   ]
  },
  {
   "cell_type": "code",
   "execution_count": 9,
   "id": "9ccaaffd-d12d-4814-8468-025551265dba",
   "metadata": {},
   "outputs": [
    {
     "data": {
      "text/plain": [
       "<Axes: >"
      ]
     },
     "execution_count": 9,
     "metadata": {},
     "output_type": "execute_result"
    },
    {
     "data": {
      "image/png": "[encoded data removed]",
      "text/plain": [
       "<Figure size 640x480 with 1 Axes>"
      ]
     },
     "metadata": {},
     "output_type": "display_data"
    }
   ],
   "source": [
    "times_df.plot()"
   ]
  },
  {
   "cell_type": "markdown",
   "id": "f7a20cb2-9523-4f9f-b445-c288e6b25e4c",
   "metadata": {},
   "source": [
    "let's go one step further and embedd the answers to check how close they are to each other.\n",
    "\n",
    "we use nomic-embed-text v1.5 and in the previous notebook we find out how good Q5_K_M really is."
   ]
  },
  {
   "cell_type": "code",
   "execution_count": 10,
   "id": "d8d5959c-ca42-490c-816b-bd3312db2951",
   "metadata": {},
   "outputs": [],
   "source": [
    "from openai import OpenAI\n",
    "client = OpenAI(base_url=\"http://localhost:1234/v1\", api_key=\"lm-studio\")\n",
    "\n",
    "def get_embedding(text, model=\"nomic-ai/nomic-embed-text-v1.5-GGUF\"):\n",
    "   text = text.replace(\"\\n\", \" \")\n",
    "   return client.embeddings.create(input = [text], model=model).data[0].embedding"
   ]
  },
  {
   "cell_type": "code",
   "execution_count": 11,
   "id": "18bb0332-de25-4532-8264-87c67f6bd8f6",
   "metadata": {},
   "outputs": [],
   "source": [
    "import numpy as np\n",
    "\n",
    "embedded_answers = {}\n",
    "\n",
    "for key, value in llm_quantizations_datas.items():\n",
    "    embedds = []\n",
    "    for answer in value[1]:\n",
    "        embedding = np.array([get_embedding(answer)])\n",
    "        embedds.append(embedding)\n",
    "\n",
    "    embedded_answers[key] = embedds"
   ]
  },
  {
   "cell_type": "code",
   "execution_count": 12,
   "id": "9581a509-7be5-4ce6-9f19-8de5872b8f09",
   "metadata": {},
   "outputs": [],
   "source": [
    "gpt_answers = {\"answer\": [value[\"answer\"] for value in gpt_data.values()]}\n",
    "\n",
    "gpt_embedded_answers = []\n",
    "for answer in gpt_answers[\"answer\"]:\n",
    "    embedding = np.array([get_embedding(answer)])\n",
    "    gpt_embedded_answers.append(embedding)"
   ]
  },
  {
   "cell_type": "markdown",
   "id": "3af575c5-0361-46d7-8298-6ade9208f569",
   "metadata": {},
   "source": [
    "Now we want to find out the similarity between answers and models responds using Cosine similarity."
   ]
  },
  {
   "cell_type": "code",
   "execution_count": null,
   "id": "59716c71-4d21-4415-b503-25b48eccbb5f",
   "metadata": {},
   "outputs": [],
   "source": []
  }
 ],
 "metadata": {
  "kernelspec": {
   "display_name": "Python 3 (ipykernel)",
   "language": "python",
   "name": "python3"
  },
  "language_info": {
   "codemirror_mode": {
    "name": "ipython",
    "version": 3
   },
   "file_extension": ".py",
   "mimetype": "text/x-python",
   "name": "python",
   "nbconvert_exporter": "python",
   "pygments_lexer": "ipython3",
   "version": "3.12.4"
  }
 },
 "nbformat": 4,
 "nbformat_minor": 5
}
